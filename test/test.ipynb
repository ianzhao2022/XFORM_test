{
 "cells": [
  {
   "cell_type": "markdown",
   "metadata": {},
   "source": [
    "# Simulate Homologous Recombination"
   ]
  },
  {
   "cell_type": "code",
   "execution_count": 2,
   "metadata": {},
   "outputs": [],
   "source": [
    "from Bio import SeqIO, Align\n",
    "from Bio.SeqRecord import SeqRecord\n",
    "from Bio.Seq import Seq"
   ]
  },
  {
   "cell_type": "markdown",
   "metadata": {},
   "source": [
    "## read fasta"
   ]
  },
  {
   "cell_type": "code",
   "execution_count": 3,
   "metadata": {},
   "outputs": [
    {
     "name": "stdout",
     "output_type": "stream",
     "text": [
      "Sequence name: 1\n",
      "Sequence: GTGTCACTTTCGCTTTGGCAGCAGTGTCTTGCCCGATTGCAGGATGAGTTACCAGCCACAGAATTCAGTATGTGGATACGCCCATTGCAGGCGGAACTGAGCGATAACACGCTGGCCCTGTACGCGCCAAACCGTTTTGTCCTCGATTGGGTACGGGACAAGTACCTTAATAATATCAATGGACTGCTAACCAGTTTCTGCGGAGCGGATGCCCCACAGCTGCGTTTTGAAGTCGGCACCAAACCGGTGACGCAAACGCCACAAGCGGCAGTGACGAGCAACGTCGCGGCCCCTGCACAGGTGGCGCAAACGCAGCCGCAACGTGCTGCGCCTTCTACGCGCTCAGGTTGGGATAACGTCCCGGCCCCGGCAGAACCGACCTATCGTTCTAACGTAAACGTCAAACACACGTTTGATAACTTCGTTGAAGGTAAATCTAACCAACTGGCGCGCGCGGCGGCTCGCCAGGTGGCGGATAACCCTGGCGGTGCCTATAACCCGTTGTTCCTTTATGGCGGCACGGGTCTGGGTAAAACTCACCTGCTGCATGCGGTGGGTAACGGCATTATGGCGCGCAAGCCGAATGCCAAAGTGGTTTATATGCACTCCGAGCGCTTTGTTCAGGACATGGTTAAAGCCCTGCAAAACAACGCGATCGAAGAGTTTAAACGCTACTACCGTTCCGTAGATGCACTGCTGATCGACGATATTCAGTTTTTTGCTAATAAAGAACGATCTCAGGAAGAGTTTTTCCACACCTTCAACGCCCTGCTGGAAGGTAATCAACAGATCATTCTCACCTCGGATCGCTATCCGAAAGAGATCAACGGCGTTGAGGATCGTTTGAAATCCCGCTTCGGTTGGGGACTGACTGTGGCGATCGAACCGCCAGAGCTGGAAACCCGTGTGGCGATCCTGATGAAAAAGGCCGACGAAAACGACATTCGTTTGCCGGGCGAAGTGGCGTTCTTTATCGCCAAGCGTCTACGATCTAACGTAC\n",
      "\n",
      "Sequence length: 4521149\n",
      "\n",
      "Sequence name: ADD-4353\n",
      "Sequence: aggcggtgatgttatatcgcgttgattattgatgctgtttttagttttaacggcaattaatatatatgttattaattgaatgaattttattattcattatatatatgtgtagaatcgtgcgcaggagaaatattcactcaggaagttattactcaggaagcaaagaggattacagaattatctcataacaagtgttaagggatgttatttcccagttctctgtggcataataaacgagtagatgctcattctatctcttatgttcgccttagtgcctcataaactccggaatgacgcagagccgtttacggtgcttatcgtccactgacagatgtcgcttatgcctcatcagacaccatggacacaacgttgagtgaagcacccacttgttgtcatacagacctgttttaacgcctgctccgtaataagagcaggcgtttttttatgtatcagaaaggtcccggaggtgcttgcctccgggtgagaaagaactactgtgg\n",
      "\n",
      "Sequence length: 3266\n",
      "\n"
     ]
    }
   ],
   "source": [
    "def read_fasta(file_path):\n",
    "    # Reads a FASTA file and returns a dictionary containing the sequence names as keys and sequences as values.\n",
    "    sequences = {}\n",
    "    current_sequence_name = None\n",
    "    current_sequence = ''\n",
    "\n",
    "    with open(file_path, 'r') as file:\n",
    "        for line in file:\n",
    "            line = line.strip()\n",
    "            if line.startswith('>'):\n",
    "                # If a new sequence is encountered, store the current one (if any) and start a new sequence\n",
    "                if current_sequence_name is not None:\n",
    "                    sequences[current_sequence_name] = current_sequence\n",
    "                current_sequence_name = line[1:]  # Remove the \">\" symbol from the sequence name\n",
    "                current_sequence = ''\n",
    "            else:\n",
    "                current_sequence += line\n",
    "\n",
    "        # Store the last sequence after reaching the end of the file\n",
    "        if current_sequence_name is not None:\n",
    "            sequences[current_sequence_name] = current_sequence\n",
    "\n",
    "    return sequences\n",
    "\n",
    " \n",
    "# read the SD36051-001 sequence file\n",
    "file_path_original = \"/mnt/d/Github/XFORM_test/input/SD36051-001.fasta\"\n",
    "fasta_sequences_original = read_fasta(file_path_original)\n",
    "\n",
    "# Accessing individual sequences by their names\n",
    "sequence_name = \"1\"\n",
    "sequence_original = fasta_sequences_original.get(sequence_name, None)\n",
    "if sequence_original:\n",
    "    print(f\"Sequence name: {sequence_name}\\nSequence: {sequence_original[:1000]}\\n\")\n",
    "    print(f\"Sequence length: {len(sequence_original)}\\n\")\n",
    "else:\n",
    "    print(f\"Sequence '{sequence_name}' not found in the FASTA file.\")   \n",
    "\n",
    "# read the add-4353 sequence file\n",
    "file_path_donor = \"/mnt/d/Github/XFORM_test/input/add-4353.fasta\"\n",
    "fasta_sequences_donor = read_fasta(file_path_donor)\n",
    "\n",
    "# Accessing individual sequences by their names\n",
    "sequence_name2 = \"ADD-4353\"\n",
    "sequence_donor = fasta_sequences_donor.get(sequence_name2, None)\n",
    "if sequence_donor:\n",
    "    print(f\"Sequence name: {sequence_name2}\\nSequence: {sequence_donor[2766:3266]}\\n\")\n",
    "    print(f\"Sequence length: {len(sequence_donor)}\\n\")\n",
    "else:\n",
    "    print(f\"Sequence '{sequence_name2}' not found in the FASTA file.\")"
   ]
  },
  {
   "cell_type": "markdown",
   "metadata": {},
   "source": [
    "## Read Genebank"
   ]
  },
  {
   "cell_type": "code",
   "execution_count": 6,
   "metadata": {},
   "outputs": [
    {
     "name": "stdout",
     "output_type": "stream",
     "text": [
      "Sequence name: ADD-4353\n",
      "Sequence length: 3266 base pairs\n",
      "Upstream location: [0:502](+)\n",
      "Downstream location: [2766:3266](+)\n",
      "Upstream sequence: CCGCCACGCCGCCGCCGTTAAAGCCAACATCCATCCAGCCCACATCATCCAGCAAGAAAACAACCACGTTCGGTTTCTTACCGGTTTTTTTCTCAAGTTCTGCCAGCTTCTGCTGGGTTTCTTTGTCTTGTGCAGGATGCTGCATCACCGGCATCATGTTGTCGGCAATAGTGGTCGCCGGTTTAACCAGATACTGGTTTGGGTGATCGTATCCGGCAAAGCCTTTGCGTGCGGTGGCGGTTGACGGGGTATCTGCTGCGTTGGCCATGAGTGGAAGAGCGGCGGCGACAGCTACAACAAGAAGTTTGGGTGAAAACGAAAATTCCATGCAAAATGCTCCGGTTTCATGTCGTCAAAATGTTGACGTAATTAAGCATTGATAATTGATAATTGAGATCCCTCTCCCTGACAGGATGATTGCATAAATAATAGTGATGAAAATAAATTATTTATTTATCCAGAAAATGAATTGGAAAATCAGGAGAGCGTTTTCAATCCTACC\n",
      "Downstream sequence: AGGCGGTGATGTTATATCGCGTTGATTATTGATGCTGTTTTTAGTTTTAACGGCAATTAATATATATGTTATTAATTGAATGAATTTTATTATTCATTATATATATGTGTAGAATCGTGCGCAGGAGAAATATTCACTCAGGAAGTTATTACTCAGGAAGCAAAGAGGATTACAGAATTATCTCATAACAAGTGTTAAGGGATGTTATTTCCCAGTTCTCTGTGGCATAATAAACGAGTAGATGCTCATTCTATCTCTTATGTTCGCCTTAGTGCCTCATAAACTCCGGAATGACGCAGAGCCGTTTACGGTGCTTATCGTCCACTGACAGATGTCGCTTATGCCTCATCAGACACCATGGACACAACGTTGAGTGAAGCACCCACTTGTTGTCATACAGACCTGTTTTAACGCCTGCTCCGTAATAAGAGCAGGCGTTTTTTTATGTATCAGAAAGGTCCCGGAGGTGCTTGCCTCCGGGTGAGAAAGAACTACTGTGG\n",
      "Features:\n",
      "\tFeature type: misc_feature\n",
      "\tLocation: [0:502](+)\n",
      "\tQualifiers: {'label': ['chuR_2[1486E:1987E]']}\n",
      "\tFeature type: misc_feature\n",
      "\tLocation: [502:802](+)\n",
      "\tQualifiers: {'label': ['trc promoter_no_RBS_Long_version']}\n",
      "\tFeature type: misc_feature\n",
      "\tLocation: [772:802](+)\n",
      "\tQualifiers: {'label': ['trc promoter'], 'ApEinfo_revcolor': ['#f58a5e'], 'ApEinfo_fwdcolor': ['#f58a5e']}\n",
      "\tFeature type: misc_feature\n",
      "\tLocation: [802:818](+)\n",
      "\tQualifiers: {'label': ['RBS_DNA2260'], 'ApEinfo_revcolor': ['#f58a5e'], 'ApEinfo_fwdcolor': ['#f58a5e']}\n",
      "\tFeature type: misc_feature\n",
      "\tLocation: [818:2732](+)\n",
      "\tQualifiers: {'label': ['E.coli_mtlA']}\n",
      "\tFeature type: misc_feature\n",
      "\tLocation: [2732:2766](+)\n",
      "\tQualifiers: {'label': ['B1002']}\n",
      "\tFeature type: misc_feature\n",
      "\tLocation: [2766:3266](+)\n",
      "\tQualifiers: {'label': ['chuR_2[2008E:2507E]']}\n"
     ]
    }
   ],
   "source": [
    "from Bio import SeqIO\n",
    "\n",
    "\n",
    "def get_upstream_downstream_sequences(sequence, upstream_location, downstream_location):\n",
    "    # Extracts and returns the upstream and downstream sequences from the main sequence.\n",
    "   \n",
    "    upstream_start = upstream_location.start\n",
    "    upstream_end = upstream_location.end\n",
    "    downstream_start = downstream_location.start\n",
    "    downstream_end = downstream_location.end\n",
    "\n",
    "    upstream_sequence = sequence[upstream_start:upstream_end]\n",
    "    downstream_sequence = sequence[downstream_start:downstream_end]\n",
    "\n",
    "    return upstream_sequence, downstream_sequence\n",
    "\n",
    "def read_genbank(file_path):\n",
    "    # Reads a GenBank file and returns a dictionary containing the sequence names as keys and a tuple of\n",
    "    # (sequence, features, length, upstream_location, downstream_location) as values.\n",
    "\n",
    "    sequences_with_info = {}\n",
    "\n",
    "    with open(file_path, 'r') as file:\n",
    "        for record in SeqIO.parse(file, 'genbank'):\n",
    "            sequence = str(record.seq)\n",
    "            features = record.features\n",
    "            length = len(sequence)\n",
    "            \n",
    "            # Find the first and last feature locations and save them as upstream and downstream locations\n",
    "            upstream_location = features[0].location\n",
    "            downstream_location = features[-1].location\n",
    "            \n",
    "            # Save the information in the dictionary\n",
    "            sequences_with_info[record.id] = (sequence, features, length, upstream_location, downstream_location)\n",
    "\n",
    "    return sequences_with_info\n",
    "\n",
    "# read the add-4353.gb file\n",
    "file_path_genbank = \"/mnt/d/Github/XFORM_test/input/add-4353.gb\"\n",
    "genbank_sequences = read_genbank(file_path_genbank)\n",
    "\n",
    "# Process and print information about all sequences\n",
    "for sequence_name, data in genbank_sequences.items():\n",
    "    sequence, features, length, upstream_location, downstream_location = data\n",
    "    print(f\"Sequence name: {sequence_name}\")\n",
    "    print(f\"Sequence length: {length} base pairs\")\n",
    "    print(f\"Upstream location: {upstream_location}\")\n",
    "    print(f\"Downstream location: {downstream_location}\")\n",
    "\n",
    "    # Extract and print upstream and downstream sequences\n",
    "    upstream_sequence, downstream_sequence = get_upstream_downstream_sequences(sequence, upstream_location, downstream_location)\n",
    "    print(f\"Upstream sequence: {upstream_sequence}\")\n",
    "    print(f\"Downstream sequence: {downstream_sequence}\")\n",
    "\n",
    "    print(\"Features:\")\n",
    "    for feature in features:\n",
    "        print(f\"\\tFeature type: {feature.type}\")\n",
    "        print(f\"\\tLocation: {feature.location}\")\n",
    "        print(f\"\\tQualifiers: {feature.qualifiers}\")\n"
   ]
  },
  {
   "cell_type": "markdown",
   "metadata": {},
   "source": [
    "## Search the location"
   ]
  },
  {
   "cell_type": "code",
   "execution_count": 48,
   "metadata": {},
   "outputs": [
    {
     "name": "stdout",
     "output_type": "stream",
     "text": [
      "Upstream sequence (or its variant) found at index 4418691:4419193\n",
      "Downstream sequence (or its variant) found at index 4418171:4418671\n",
      "Cut site sequence (or its variant) found at index 4418671:4418691\n",
      "((4418691, 4419193), (4418171, 4418671), 4)\n"
     ]
    }
   ],
   "source": [
    "\n",
    "def get_complement(dna_sequence):\n",
    "    # Get the complementary sequence of a DNA sequence.\n",
    "\n",
    "    # Define the translation table to replace each nucleotide with its complement\n",
    "    complement_table = str.maketrans(\"ATCG\", \"TAGC\")\n",
    "    \n",
    "    # Use the translate method to get the complementary sequence\n",
    "    complementary_sequence = dna_sequence.translate(complement_table)\n",
    "    \n",
    "    return complementary_sequence\n",
    "\n",
    "\n",
    "def search_upstream_downstream_in_sequence(main_sequence, upstream_sequence, downstream_sequence, cutsite_sequence):\n",
    "    # Searches for the location of upstream and downstream sequences in the main sequence.\n",
    "\n",
    "    def find_sequence_in_main(sequence):\n",
    "        seq_variants = [sequence, get_complement(sequence), sequence[::-1], get_complement(sequence[::-1])]\n",
    "        for variant_type, seq_type in enumerate(seq_variants, start=1):\n",
    "            index = main_sequence.find(seq_type)\n",
    "            if index != -1:\n",
    "                print(f\"sequence (or its variant) found at index {index}:{index+len(sequence)}\")\n",
    "                return index, variant_type\n",
    "        print(\"sequence and its variants not found\")\n",
    "        return -1, 0\n",
    "        \n",
    "    print(\"Upstream \", end='')\n",
    "    upstream_result = find_sequence_in_main(upstream_sequence)\n",
    "    print(\"Downstream \", end='')\n",
    "    downstream_result = find_sequence_in_main(downstream_sequence)\n",
    "    print(\"Cut site \", end='')\n",
    "    find_sequence_in_main(cutsite_sequence)\\\n",
    "        \n",
    "    if upstream_result[1] != downstream_result[1]:\n",
    "        return KeyError(\"Upstream and downstream sequences are not the same type. Please check the sequences.\")\n",
    "    \n",
    "    return (upstream_result[0], upstream_result[0] + len(upstream_sequence)), (downstream_result[0], downstream_result[0] + len(downstream_sequence)), upstream_result[1]\n",
    "\n",
    "\n",
    "cutsite_sequence = \"tctggcgcaggtgatatgta\"\n",
    "location_in_sequence= search_upstream_downstream_in_sequence(sequence_original.upper(), upstream_sequence.upper(), downstream_sequence.upper(), cutsite_sequence.upper())\n",
    "\n",
    "print(location_in_sequence)"
   ]
  },
  {
   "cell_type": "markdown",
   "metadata": {},
   "source": [
    "## Adding the Donor DNA"
   ]
  },
  {
   "cell_type": "code",
   "execution_count": 54,
   "metadata": {},
   "outputs": [
    {
     "name": "stdout",
     "output_type": "stream",
     "text": [
      "4523393\n"
     ]
    }
   ],
   "source": [
    "def homologous_recombination(target_seq, insert_seq, location_in_sequence):\n",
    "    # Convert sequences to Python strings\n",
    "    target_seq_str = str(target_seq)\n",
    "    insert_seq_str = str(insert_seq)\n",
    "\n",
    "    # get the positions of upstream and downstream homologies in the location information handle the special case\n",
    "    upstream_location_start = location_in_sequence[0][0]\n",
    "    upstream_location_end = location_in_sequence[0][1]\n",
    "    downstream_location_start = location_in_sequence[1][0]\n",
    "    downstream_location_end = location_in_sequence[1][1]\n",
    "    match_type = location_in_sequence[2]\n",
    "    \n",
    "    # Perform the replacement (homologous recombination)\n",
    "    if match_type ==1:\n",
    "        new_sequence = target_seq_str[:upstream_location_start] + insert_seq_str + target_seq_str[downstream_location_end:]\n",
    "    elif match_type ==2:\n",
    "        new_sequence = target_seq_str[:upstream_location_start] + get_complement(insert_seq_str) + target_seq_str[downstream_location_end:]\n",
    "    elif match_type ==3:\n",
    "        new_sequence = target_seq_str[:downstream_location_start] + insert_seq_str[::-1] + target_seq_str[upstream_location_end:]\n",
    "    elif match_type ==4:\n",
    "        new_sequence = target_seq_str[:downstream_location_start] + get_complement(insert_seq_str[::-1]) + target_seq_str[upstream_location_end:]\n",
    "    else:\n",
    "        return KeyError(\"Unknown ERROR\")\n",
    "    \n",
    "    return new_sequence\n",
    "\n",
    "new_sequence = homologous_recombination(sequence_original, sequence_donor, location_in_sequence)\n",
    "print(len(new_sequence))"
   ]
  }
 ],
 "metadata": {
  "kernelspec": {
   "display_name": "XFORM_test",
   "language": "python",
   "name": "python3"
  },
  "language_info": {
   "codemirror_mode": {
    "name": "ipython",
    "version": 3
   },
   "file_extension": ".py",
   "mimetype": "text/x-python",
   "name": "python",
   "nbconvert_exporter": "python",
   "pygments_lexer": "ipython3",
   "version": "3.11.4"
  },
  "orig_nbformat": 4
 },
 "nbformat": 4,
 "nbformat_minor": 2
}
